{
 "cells": [
  {
   "cell_type": "code",
   "execution_count": 24,
   "id": "abcdd468",
   "metadata": {},
   "outputs": [],
   "source": [
    "from tkinter import * "
   ]
  },
  {
   "cell_type": "code",
   "execution_count": 32,
   "id": "a8688147",
   "metadata": {},
   "outputs": [],
   "source": [
    "root = Tk()"
   ]
  },
  {
   "cell_type": "code",
   "execution_count": 33,
   "id": "da7bab8a",
   "metadata": {},
   "outputs": [],
   "source": [
    "def send():\n",
    "    send = \"You:\"+e.get()\n",
    "    text.insert(END,\"\\n\" + send)\n",
    "    if(e.get()==\"안녕?\"):\n",
    "        text.insert(END,\"\\n\"+\"Bot: 안녕하세요 희태님\")\n",
    "    elif(e.get()==\"오늘 날씨는 어때?\"):\n",
    "        text.insert(END,\"\\n\"+\"Bot: 맑습니다.\")\n",
    "    elif(e.get()==\"오늘 일정 알려줘\"):\n",
    "        text.insert(END, \"\\n\" + \"Bot: 학원 가는 날입니다.\")\n",
    "    elif(e.get()==\"재밌는 이야기 해줘\"):\n",
    "        text.insert(END, \"\\n\" + \"Bot: 별거 없는 하루입니다.\")\n",
    "    else:\n",
    "        text.insert(END,\"\\n\" + \"Bot: 죄송합니다 다시 말씀해주세요\")\n",
    "text = Text(root, bg=\"blue\" , fg=\"white\")\n",
    "text.grid(row=0,column=0,columnspan=2)\n",
    "e = Entry(root,width=80)\n",
    "send = Button(root, text=\"Send\",bg=\"deeppink\",fg=\"white\", width=30, command=send).grid(row=1,column=1)\n",
    "e.grid(row=1,column=0)\n",
    "root.title(\"KASHIPARA.COM\")\n",
    "root.mainloop()"
   ]
  },
  {
   "cell_type": "code",
   "execution_count": null,
   "id": "60021f12",
   "metadata": {},
   "outputs": [],
   "source": []
  },
  {
   "cell_type": "code",
   "execution_count": null,
   "id": "41314100",
   "metadata": {},
   "outputs": [],
   "source": []
  }
 ],
 "metadata": {
  "kernelspec": {
   "display_name": "Python 3 (ipykernel)",
   "language": "python",
   "name": "python3"
  },
  "language_info": {
   "codemirror_mode": {
    "name": "ipython",
    "version": 3
   },
   "file_extension": ".py",
   "mimetype": "text/x-python",
   "name": "python",
   "nbconvert_exporter": "python",
   "pygments_lexer": "ipython3",
   "version": "3.9.7"
  }
 },
 "nbformat": 4,
 "nbformat_minor": 5
}
